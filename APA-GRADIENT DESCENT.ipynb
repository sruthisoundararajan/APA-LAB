{
 "cells": [
  {
   "cell_type": "markdown",
   "id": "b2319bb3",
   "metadata": {},
   "source": [
    "NAME:SRUTHI S\n",
    "REG NO:19MID0053"
   ]
  },
  {
   "cell_type": "markdown",
   "id": "5acb5b7a",
   "metadata": {},
   "source": [
    "# Importing packages"
   ]
  },
  {
   "cell_type": "code",
   "execution_count": 1,
   "id": "36075175",
   "metadata": {},
   "outputs": [],
   "source": [
    "import pandas as pd\n",
    "import numpy as np\n",
    "import matplotlib.pyplot as plt\n",
    "%matplotlib inline\n",
    "from numpy import *\n"
   ]
  },
  {
   "cell_type": "markdown",
   "id": "7cd80caa",
   "metadata": {},
   "source": [
    "# Importing dataset-1"
   ]
  },
  {
   "cell_type": "code",
   "execution_count": 2,
   "id": "4de63b66",
   "metadata": {},
   "outputs": [],
   "source": [
    "df = pd.read_csv(\"gradient.csv\")\n",
    "df=genfromtxt('gradient.csv',delimiter=',')"
   ]
  },
  {
   "cell_type": "markdown",
   "id": "57d85d04",
   "metadata": {},
   "source": [
    "# Assigning X and Y values"
   ]
  },
  {
   "cell_type": "code",
   "execution_count": 3,
   "id": "62b24cdf",
   "metadata": {},
   "outputs": [],
   "source": [
    "x = array(df[:,0])\n",
    "y = array(df[:,1])\n"
   ]
  },
  {
   "cell_type": "code",
   "execution_count": 4,
   "id": "adb85b7a",
   "metadata": {},
   "outputs": [
    {
     "data": {
      "text/plain": [
       "array([20. , 21. , 22. , 30. , 28. , 23. , 24. , 30. , 22.2, 22. , 33. ,\n",
       "       34. , 36. , 37. , 38. , 22. , 24. , 21. , 20. , 32. , 22. , 21. ,\n",
       "       22. , 21. , 22. , 22. , 22. , 23. , 23. , 23. ])"
      ]
     },
     "execution_count": 4,
     "metadata": {},
     "output_type": "execute_result"
    }
   ],
   "source": [
    "x"
   ]
  },
  {
   "cell_type": "code",
   "execution_count": 5,
   "id": "9809203f",
   "metadata": {},
   "outputs": [
    {
     "data": {
      "text/plain": [
       "array([ 10000.,  15000.,  20000.,  70000.,  50000.,  34023.,  43202.,\n",
       "        73023.,  15000.,  17754.,  80000.,  82000.,  96066., 105043.,\n",
       "       132022.,  23455.,  23324.,  17343.,  10344., 100546.,   9376.,\n",
       "        24335.,  23234.,   9444.,   9233.,   5433.,  22231.,  13456.,\n",
       "         2331.,   7543.])"
      ]
     },
     "execution_count": 5,
     "metadata": {},
     "output_type": "execute_result"
    }
   ],
   "source": [
    "y"
   ]
  },
  {
   "cell_type": "markdown",
   "id": "66356e4b",
   "metadata": {},
   "source": [
    "# Scatter plot"
   ]
  },
  {
   "cell_type": "code",
   "execution_count": 6,
   "id": "6183e3e3",
   "metadata": {},
   "outputs": [
    {
     "data": {
      "image/png": "[encoded data removed]",
      "text/plain": [
       "<Figure size 432x288 with 1 Axes>"
      ]
     },
     "metadata": {
      "needs_background": "light"
     },
     "output_type": "display_data"
    }
   ],
   "source": [
    "plt.scatter(x,y)\n",
    "plt.xlabel(\"Age\")\n",
    "plt.ylabel(\"Salary\")\n",
    "plt.title(\"Dataset\")\n",
    "plt.show()"
   ]
  },
  {
   "cell_type": "markdown",
   "id": "89856fb1",
   "metadata": {},
   "source": [
    "# Cost function"
   ]
  },
  {
   "cell_type": "code",
   "execution_count": 7,
   "id": "84870832",
   "metadata": {},
   "outputs": [],
   "source": [
    "#cost function\n",
    "def compute_cost(c,m,df):\n",
    "    total_cost=0\n",
    "    #numbers of datapoints in training data\n",
    "    N=float(len(df))\n",
    "    \n",
    "    #compute sum of squared errors\n",
    "    for i in range(0,len(df)):\n",
    "        x=df[i,0]\n",
    "        y=df[i,1]\n",
    "        total_cost +=(y-(m*x+c))**2\n",
    "    \n",
    "    #return average of squared error\n",
    "    return total_cost/(N)"
   ]
  },
  {
   "cell_type": "markdown",
   "id": "990ed8ac",
   "metadata": {},
   "source": [
    "# Setting hyperparameters"
   ]
  },
  {
   "cell_type": "code",
   "execution_count": 12,
   "id": "61f884ab",
   "metadata": {},
   "outputs": [],
   "source": [
    "#hyperparameters\n",
    "learning_rate=0.0001\n",
    "initial_c=0\n",
    "initial_m=0\n",
    "num_iterations=1000000"
   ]
  },
  {
   "cell_type": "markdown",
   "id": "36334cad",
   "metadata": {},
   "source": [
    "# To repeat steps-step gradient"
   ]
  },
  {
   "cell_type": "code",
   "execution_count": 13,
   "id": "2a41d387",
   "metadata": {},
   "outputs": [],
   "source": [
    "def step_gradient(c_current,m_current,data,lr):\n",
    "    m_gradient=0\n",
    "    c_gradient=0\n",
    "    N=float(len(df))\n",
    "    \n",
    "    #calculate gradient\n",
    "    for i in range(0,len(df)):\n",
    "        x=df[i,0]\n",
    "        y=df[i,1]\n",
    "        m_gradient+= -(2/N)*x*(y-(m_current*x+c_current))\n",
    "        c_gradient+= -(2/N)*(y-(m_current*x+c_current))\n",
    "        \n",
    "    #update m and c values:\n",
    "    m_updated=m_current-lr*m_gradient\n",
    "    c_updated=c_current-lr*c_gradient\n",
    "    \n",
    "    #return updated parameters:\n",
    "    return c_updated,m_updated"
   ]
  },
  {
   "cell_type": "markdown",
   "id": "a4ad0a15",
   "metadata": {},
   "source": [
    "# Gradient descent definition"
   ]
  },
  {
   "cell_type": "code",
   "execution_count": 14,
   "id": "0aa37fb9",
   "metadata": {},
   "outputs": [],
   "source": [
    "def gradient_descent(df,starting_c,starting_m,learning_rate,num_iterations):\n",
    "    \n",
    "    #initial values:\n",
    "    c=starting_c\n",
    "    m=starting_m\n",
    "    \n",
    "    #to store cost after each iterations:\n",
    "    cost_graph=[]\n",
    "    \n",
    "    \n",
    "    c_progress=[]\n",
    "    m_progress=[]\n",
    "    \n",
    "    for i in range(num_iterations):\n",
    "        cost_graph.append(compute_cost(c,m,df))\n",
    "        c,m=step_gradient(c,m,df,learning_rate)\n",
    "        c_progress.append(c)\n",
    "        m_progress.append(m)\n",
    "    return[c,m,cost_graph,c_progress,m_progress]"
   ]
  },
  {
   "cell_type": "code",
   "execution_count": 15,
   "id": "eac3ff0e",
   "metadata": {},
   "outputs": [
    {
     "name": "stdout",
     "output_type": "stream",
     "text": [
      "optimized c: -120583.77245066041\n",
      "optimized m: 6264.531340419822\n",
      "minimized cost: 92763646.46410993\n"
     ]
    }
   ],
   "source": [
    "c,m,cost_graph,c_progress,m_progress=gradient_descent(df,initial_c,initial_m,learning_rate,num_iterations)\n",
    "print('optimized c:',c)\n",
    "print('optimized m:',m)\n",
    "print('minimized cost:',compute_cost(c,m,df))"
   ]
  },
  {
   "cell_type": "markdown",
   "id": "aa56240f",
   "metadata": {},
   "source": [
    "# cost graph"
   ]
  },
  {
   "cell_type": "code",
   "execution_count": 16,
   "id": "7acad84e",
   "metadata": {},
   "outputs": [
    {
     "data": {
      "image/png": "[encoded data removed]",
      "text/plain": [
       "<Figure size 432x288 with 1 Axes>"
      ]
     },
     "metadata": {
      "needs_background": "light"
     },
     "output_type": "display_data"
    }
   ],
   "source": [
    "plt.plot(cost_graph)\n",
    "plt.xlabel('no.of.iterations')\n",
    "plt.ylabel('cost')\n",
    "plt.title('cost per iterations')\n",
    "plt.show()"
   ]
  },
  {
   "cell_type": "markdown",
   "id": "c56e165d",
   "metadata": {},
   "source": [
    "# Scatter plot with best fit line"
   ]
  },
  {
   "cell_type": "code",
   "execution_count": 17,
   "id": "e72a3f48",
   "metadata": {},
   "outputs": [
    {
     "data": {
      "image/png": "[encoded data removed]",
      "text/plain": [
       "<Figure size 432x288 with 1 Axes>"
      ]
     },
     "metadata": {
      "needs_background": "light"
     },
     "output_type": "display_data"
    }
   ],
   "source": [
    "plt.scatter(x,y)\n",
    "pred=m*x+c\n",
    "plt.plot(x,pred,c='r')\n",
    "plt.xlabel('age')\n",
    "plt.ylabel('salary')\n",
    "plt.title('line of best fit')\n",
    "plt.show()"
   ]
  },
  {
   "cell_type": "markdown",
   "id": "5bcc84f8",
   "metadata": {},
   "source": [
    "# Importing dataset-2"
   ]
  },
  {
   "cell_type": "code",
   "execution_count": 18,
   "id": "d3b0ac36",
   "metadata": {},
   "outputs": [
    {
     "data": {
      "text/plain": [
       "('data.csv', <http.client.HTTPMessage at 0x7d00f74250>)"
      ]
     },
     "execution_count": 18,
     "metadata": {},
     "output_type": "execute_result"
    }
   ],
   "source": [
    "import urllib\n",
    "df = urllib.request.urlretrieve('https://raw.githubusercontent.com/CC-MNNIT/2018-19-Classes/master/MachineLearning/2018_08_22_Logical-Rhythm-2/data.csv', \"data.csv\")\n",
    "df"
   ]
  },
  {
   "cell_type": "markdown",
   "id": "ae5eb8fe",
   "metadata": {},
   "source": [
    "# Assigning x and y values"
   ]
  },
  {
   "cell_type": "code",
   "execution_count": 19,
   "id": "e4d348c0",
   "metadata": {},
   "outputs": [],
   "source": [
    "df = np.genfromtxt(\"data.csv\", delimiter=',')\n",
    "x = df[:,0]\n",
    "y = df[:,1]"
   ]
  },
  {
   "cell_type": "code",
   "execution_count": 20,
   "id": "27c1352c",
   "metadata": {},
   "outputs": [
    {
     "data": {
      "text/plain": [
       "array([32.50234527, 53.42680403, 61.53035803, 47.47563963, 59.81320787,\n",
       "       55.14218841, 52.21179669, 39.29956669, 48.10504169, 52.55001444,\n",
       "       45.41973014, 54.35163488, 44.1640495 , 58.16847072, 56.72720806,\n",
       "       48.95588857, 44.68719623, 60.29732685, 45.61864377, 38.81681754,\n",
       "       66.18981661, 65.41605175, 47.48120861, 41.57564262, 51.84518691,\n",
       "       59.37082201, 57.31000344, 63.61556125, 46.73761941, 50.55676015,\n",
       "       52.22399609, 35.56783005, 42.43647694, 58.16454011, 57.50444762,\n",
       "       45.44053073, 61.89622268, 33.09383174, 36.43600951, 37.67565486,\n",
       "       44.55560838, 43.31828263, 50.07314563, 43.87061265, 62.99748075,\n",
       "       32.66904376, 40.16689901, 53.57507753, 33.86421497, 64.70713867,\n",
       "       38.11982403, 44.50253806, 40.59953838, 41.72067636, 51.08863468,\n",
       "       55.0780959 , 41.37772653, 62.49469743, 49.20388754, 41.10268519,\n",
       "       41.18201611, 50.18638949, 52.37844622, 50.13548549, 33.64470601,\n",
       "       39.55790122, 56.13038882, 57.36205213, 60.26921439, 35.67809389,\n",
       "       31.588117  , 53.66093226, 46.68222865, 43.10782022, 70.34607562,\n",
       "       44.49285588, 57.5045333 , 36.93007661, 55.80573336, 38.95476907,\n",
       "       56.9012147 , 56.86890066, 34.3331247 , 59.04974121, 57.78822399,\n",
       "       54.28232871, 51.0887199 , 50.28283635, 44.21174175, 38.00548801,\n",
       "       32.94047994, 53.69163957, 68.76573427, 46.2309665 , 68.31936082,\n",
       "       50.03017434, 49.23976534, 50.03957594, 48.14985889, 25.12848465])"
      ]
     },
     "execution_count": 20,
     "metadata": {},
     "output_type": "execute_result"
    }
   ],
   "source": [
    "x"
   ]
  },
  {
   "cell_type": "code",
   "execution_count": 21,
   "id": "72eef478",
   "metadata": {},
   "outputs": [
    {
     "data": {
      "text/plain": [
       "array([ 31.70700585,  68.77759598,  62.5623823 ,  71.54663223,\n",
       "        87.23092513,  78.21151827,  79.64197305,  59.17148932,\n",
       "        75.3312423 ,  71.30087989,  55.16567715,  82.47884676,\n",
       "        62.00892325,  75.39287043,  81.43619216,  60.72360244,\n",
       "        82.89250373,  97.37989686,  48.84715332,  56.87721319,\n",
       "        83.87856466, 118.5912173 ,  57.25181946,  51.39174408,\n",
       "        75.38065167,  74.76556403,  95.45505292,  95.22936602,\n",
       "        79.05240617,  83.43207142,  63.35879032,  41.4128853 ,\n",
       "        76.61734128,  96.76956643,  74.08413012,  66.58814441,\n",
       "        77.76848242,  50.71958891,  62.12457082,  60.81024665,\n",
       "        52.68298337,  58.56982472,  82.90598149,  61.4247098 ,\n",
       "       115.2441528 ,  45.57058882,  54.0840548 ,  87.99445276,\n",
       "        52.72549438,  93.57611869,  80.16627545,  65.10171157,\n",
       "        65.56230126,  65.28088692,  73.43464155,  71.13972786,\n",
       "        79.10282968,  86.52053844,  84.74269781,  59.35885025,\n",
       "        61.68403752,  69.84760416,  86.09829121,  59.10883927,\n",
       "        69.89968164,  44.86249071,  85.49806778,  95.53668685,\n",
       "        70.25193442,  52.72173496,  50.39267014,  63.64239878,\n",
       "        72.24725107,  57.81251298, 104.25710159,  86.64202032,\n",
       "        91.486778  ,  55.23166089,  79.55043668,  44.84712424,\n",
       "        80.20752314,  83.14274979,  55.72348926,  77.63418251,\n",
       "        99.05141484,  79.12064627,  69.58889785,  69.51050331,\n",
       "        73.68756432,  61.36690454,  67.17065577,  85.66820315,\n",
       "       114.85387123,  90.12357207,  97.91982104,  81.53699078,\n",
       "        72.11183247,  85.23200734,  66.22495789,  53.45439421])"
      ]
     },
     "execution_count": 21,
     "metadata": {},
     "output_type": "execute_result"
    }
   ],
   "source": [
    "y"
   ]
  },
  {
   "cell_type": "markdown",
   "id": "452b5c28",
   "metadata": {},
   "source": [
    "# Scatter plot"
   ]
  },
  {
   "cell_type": "code",
   "execution_count": 22,
   "id": "f9accb55",
   "metadata": {},
   "outputs": [
    {
     "data": {
      "image/png": "[encoded data removed]",
      "text/plain": [
       "<Figure size 432x288 with 1 Axes>"
      ]
     },
     "metadata": {
      "needs_background": "light"
     },
     "output_type": "display_data"
    }
   ],
   "source": [
    "plt.scatter(x,y)\n",
    "plt.xlabel(\"X\")\n",
    "plt.ylabel(\"Y\")\n",
    "plt.title(\"Dataset\")\n",
    "plt.show()"
   ]
  },
  {
   "cell_type": "markdown",
   "id": "506f7d99",
   "metadata": {},
   "source": [
    "# Cost function"
   ]
  },
  {
   "cell_type": "code",
   "execution_count": 23,
   "id": "87296104",
   "metadata": {},
   "outputs": [],
   "source": [
    "#cost function\n",
    "def compute_cost(c,m,df):\n",
    "    total_cost=0\n",
    "    #numbers of datapoints in training data\n",
    "    N=float(len(df))\n",
    "    \n",
    "    #compute sum of squared errors\n",
    "    for i in range(0,len(df)):\n",
    "        x=df[i,0]\n",
    "        y=df[i,1]\n",
    "        total_cost +=(y-(m*x+c))**2\n",
    "    \n",
    "    #return average of squared error\n",
    "    return total_cost/(N)"
   ]
  },
  {
   "cell_type": "markdown",
   "id": "977d17c5",
   "metadata": {},
   "source": [
    "# To repeat steps-step gradient"
   ]
  },
  {
   "cell_type": "code",
   "execution_count": 24,
   "id": "791a7e43",
   "metadata": {},
   "outputs": [],
   "source": [
    "def step_gradient(c_current,m_current,data,lr):\n",
    "    m_gradient=0\n",
    "    c_gradient=0\n",
    "    N=float(len(df))\n",
    "    \n",
    "    #calculate gradient\n",
    "    for i in range(0,len(df)):\n",
    "        x=df[i,0]\n",
    "        y=df[i,1]\n",
    "        m_gradient+= -(2/N)*x*(y-(m_current*x+c_current))\n",
    "        c_gradient+= -(2/N)*(y-(m_current*x+c_current))\n",
    "        \n",
    "    #update m and c values:\n",
    "    m_updated=m_current-lr*m_gradient\n",
    "    c_updated=c_current-lr*c_gradient\n",
    "    \n",
    "    #return updated parameters:\n",
    "    return c_updated,m_updated"
   ]
  },
  {
   "cell_type": "markdown",
   "id": "a48be426",
   "metadata": {},
   "source": [
    "# Gradient descent definition"
   ]
  },
  {
   "cell_type": "code",
   "execution_count": 25,
   "id": "952eaab0",
   "metadata": {},
   "outputs": [],
   "source": [
    "def gradient_descent(df,starting_c,starting_m,learning_rate,num_iterations):\n",
    "    \n",
    "    #initial values:\n",
    "    c=starting_c\n",
    "    m=starting_m\n",
    "    \n",
    "    #to store cost after each iterations:\n",
    "    cost_graph=[]\n",
    "    \n",
    "    \n",
    "    c_progress=[]\n",
    "    m_progress=[]\n",
    "    \n",
    "    for i in range(num_iterations):\n",
    "        cost_graph.append(compute_cost(c,m,df))\n",
    "        c,m=step_gradient(c,m,df,learning_rate)\n",
    "        c_progress.append(c)\n",
    "        m_progress.append(m)\n",
    "    return[c,m,cost_graph,c_progress,m_progress]"
   ]
  },
  {
   "cell_type": "code",
   "execution_count": 26,
   "id": "5553932e",
   "metadata": {},
   "outputs": [
    {
     "name": "stdout",
     "output_type": "stream",
     "text": [
      "optimized c: 7.986822773189421\n",
      "optimized m: 1.3225135372757009\n",
      "minimized cost: 110.25738413161343\n"
     ]
    }
   ],
   "source": [
    "c,m,cost_graph,c_progress,m_progress=gradient_descent(df,initial_c,initial_m,learning_rate,num_iterations)\n",
    "print('optimized c:',c)\n",
    "print('optimized m:',m)\n",
    "print('minimized cost:',compute_cost(c,m,df))"
   ]
  },
  {
   "cell_type": "markdown",
   "id": "e3c56907",
   "metadata": {},
   "source": [
    "# cost graph"
   ]
  },
  {
   "cell_type": "code",
   "execution_count": 27,
   "id": "71b5f1e0",
   "metadata": {},
   "outputs": [
    {
     "data": {
      "image/png": "[encoded data removed]",
      "text/plain": [
       "<Figure size 432x288 with 1 Axes>"
      ]
     },
     "metadata": {
      "needs_background": "light"
     },
     "output_type": "display_data"
    }
   ],
   "source": [
    "plt.plot(cost_graph)\n",
    "plt.xlabel('no.of.iterations')\n",
    "plt.ylabel('cost')\n",
    "plt.title('cost per iterations')\n",
    "plt.show()"
   ]
  },
  {
   "cell_type": "markdown",
   "id": "61c5afd2",
   "metadata": {},
   "source": [
    "# Scatter plot with best fit line"
   ]
  },
  {
   "cell_type": "code",
   "execution_count": 28,
   "id": "45005c6a",
   "metadata": {},
   "outputs": [
    {
     "data": {
      "image/png": "[encoded data removed]",
      "text/plain": [
       "<Figure size 432x288 with 1 Axes>"
      ]
     },
     "metadata": {
      "needs_background": "light"
     },
     "output_type": "display_data"
    }
   ],
   "source": [
    "plt.scatter(x,y)\n",
    "pred=m*x+c\n",
    "plt.plot(x,pred,c='r')\n",
    "plt.xlabel('X')\n",
    "plt.ylabel('Y')\n",
    "plt.title('line of best fit')\n",
    "plt.show()"
   ]
  }
 ],
 "metadata": {
  "kernelspec": {
   "display_name": "Python 3",
   "language": "python",
   "name": "python3"
  },
  "language_info": {
   "codemirror_mode": {
    "name": "ipython",
    "version": 3
   },
   "file_extension": ".py",
   "mimetype": "text/x-python",
   "name": "python",
   "nbconvert_exporter": "python",
   "pygments_lexer": "ipython3",
   "version": "3.8.8"
  }
 },
 "nbformat": 4,
 "nbformat_minor": 5
}
