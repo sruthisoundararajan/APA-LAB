{
 "cells": [
  {
   "cell_type": "markdown",
   "id": "fa5c1cc5",
   "metadata": {},
   "source": [
    "NAME:SRUTHI S\n",
    "REG NO:19MID0053"
   ]
  },
  {
   "cell_type": "markdown",
   "id": "5d366195",
   "metadata": {},
   "source": [
    "# Importing packages"
   ]
  },
  {
   "cell_type": "code",
   "execution_count": 1,
   "id": "4f1e337d",
   "metadata": {},
   "outputs": [],
   "source": [
    "import numpy as np\n",
    "import pandas as pd\n",
    "import matplotlib.pyplot as plt\n",
    "%matplotlib inline\n"
   ]
  },
  {
   "cell_type": "markdown",
   "id": "be1a6064",
   "metadata": {},
   "source": [
    "# Importing dataset"
   ]
  },
  {
   "cell_type": "code",
   "execution_count": 2,
   "id": "052f67c9",
   "metadata": {},
   "outputs": [
    {
     "data": {
      "text/html": [
       "<div>\n",
       "<style scoped>\n",
       "    .dataframe tbody tr th:only-of-type {\n",
       "        vertical-align: middle;\n",
       "    }\n",
       "\n",
       "    .dataframe tbody tr th {\n",
       "        vertical-align: top;\n",
       "    }\n",
       "\n",
       "    .dataframe thead th {\n",
       "        text-align: right;\n",
       "    }\n",
       "</style>\n",
       "<table border=\"1\" class=\"dataframe\">\n",
       "  <thead>\n",
       "    <tr style=\"text-align: right;\">\n",
       "      <th></th>\n",
       "      <th>Empid</th>\n",
       "      <th>Name</th>\n",
       "      <th>Designation</th>\n",
       "      <th>Salary</th>\n",
       "      <th>Experience</th>\n",
       "      <th>Age</th>\n",
       "    </tr>\n",
       "  </thead>\n",
       "  <tbody>\n",
       "    <tr>\n",
       "      <th>0</th>\n",
       "      <td>1</td>\n",
       "      <td>sru</td>\n",
       "      <td>Manager</td>\n",
       "      <td>10000</td>\n",
       "      <td>1.0</td>\n",
       "      <td>20.0</td>\n",
       "    </tr>\n",
       "    <tr>\n",
       "      <th>1</th>\n",
       "      <td>2</td>\n",
       "      <td>sar</td>\n",
       "      <td>Supervisor</td>\n",
       "      <td>15000</td>\n",
       "      <td>2.0</td>\n",
       "      <td>21.0</td>\n",
       "    </tr>\n",
       "    <tr>\n",
       "      <th>2</th>\n",
       "      <td>3</td>\n",
       "      <td>daddy</td>\n",
       "      <td>Labour</td>\n",
       "      <td>20000</td>\n",
       "      <td>2.5</td>\n",
       "      <td>22.0</td>\n",
       "    </tr>\n",
       "    <tr>\n",
       "      <th>3</th>\n",
       "      <td>4</td>\n",
       "      <td>mummy</td>\n",
       "      <td>Clerk</td>\n",
       "      <td>70000</td>\n",
       "      <td>7.0</td>\n",
       "      <td>30.0</td>\n",
       "    </tr>\n",
       "    <tr>\n",
       "      <th>4</th>\n",
       "      <td>5</td>\n",
       "      <td>ayya</td>\n",
       "      <td>Manager</td>\n",
       "      <td>50000</td>\n",
       "      <td>5.0</td>\n",
       "      <td>28.0</td>\n",
       "    </tr>\n",
       "  </tbody>\n",
       "</table>\n",
       "</div>"
      ],
      "text/plain": [
       "   Empid   Name Designation  Salary  Experience   Age\n",
       "0      1    sru     Manager   10000         1.0  20.0\n",
       "1      2    sar  Supervisor   15000         2.0  21.0\n",
       "2      3  daddy      Labour   20000         2.5  22.0\n",
       "3      4  mummy       Clerk   70000         7.0  30.0\n",
       "4      5   ayya     Manager   50000         5.0  28.0"
      ]
     },
     "execution_count": 2,
     "metadata": {},
     "output_type": "execute_result"
    }
   ],
   "source": [
    "df = pd.read_csv(\"first_csv_apa.csv\")\n",
    "df.head()\n"
   ]
  },
  {
   "cell_type": "markdown",
   "id": "fcaa849a",
   "metadata": {},
   "source": [
    "# Assigning X and Y values"
   ]
  },
  {
   "cell_type": "code",
   "execution_count": 3,
   "id": "ea17922a",
   "metadata": {},
   "outputs": [],
   "source": [
    "X = df['Age'].values\n",
    "\n",
    "y = df['Salary'].values"
   ]
  },
  {
   "cell_type": "code",
   "execution_count": 4,
   "id": "d06c4252",
   "metadata": {},
   "outputs": [
    {
     "data": {
      "text/plain": [
       "array([20. , 21. , 22. , 30. , 28. , 23. , 24. , 30. , 22.2, 22. , 33. ,\n",
       "       34. , 36. , 37. , 38. , 22. , 24. , 21. , 20. , 32. , 22. , 21. ,\n",
       "       22. , 21. , 22. , 22. , 22. , 23. , 23. , 23. ])"
      ]
     },
     "execution_count": 4,
     "metadata": {},
     "output_type": "execute_result"
    }
   ],
   "source": [
    "X"
   ]
  },
  {
   "cell_type": "code",
   "execution_count": 5,
   "id": "0606ada0",
   "metadata": {},
   "outputs": [
    {
     "data": {
      "text/plain": [
       "array([ 10000,  15000,  20000,  70000,  50000,  34023,  43202,  73023,\n",
       "        15000,  17754,  80000,  82000,  96066, 105043, 132022,  23455,\n",
       "        23324,  17343,  10344, 100546,   9376,  24335,  23234,   9444,\n",
       "         9233,   5433,  22231,  13456,   2331,   7543], dtype=int64)"
      ]
     },
     "execution_count": 5,
     "metadata": {},
     "output_type": "execute_result"
    }
   ],
   "source": [
    "y"
   ]
  },
  {
   "cell_type": "markdown",
   "id": "b22b0634",
   "metadata": {},
   "source": [
    "# Finding mean"
   ]
  },
  {
   "cell_type": "code",
   "execution_count": 21,
   "id": "a752be21",
   "metadata": {},
   "outputs": [
    {
     "data": {
      "text/plain": [
       "25.34"
      ]
     },
     "execution_count": 21,
     "metadata": {},
     "output_type": "execute_result"
    }
   ],
   "source": [
    "X_mean=np.mean(X)\n",
    "X_mean"
   ]
  },
  {
   "cell_type": "code",
   "execution_count": 22,
   "id": "e4ac5088",
   "metadata": {},
   "outputs": [
    {
     "data": {
      "text/plain": [
       "38158.7"
      ]
     },
     "execution_count": 22,
     "metadata": {},
     "output_type": "execute_result"
    }
   ],
   "source": [
    "Y_mean=np.mean(y)\n",
    "Y_mean"
   ]
  },
  {
   "cell_type": "markdown",
   "id": "42df5db6",
   "metadata": {},
   "source": [
    "# Finding length"
   ]
  },
  {
   "cell_type": "code",
   "execution_count": 8,
   "id": "3df9b846",
   "metadata": {},
   "outputs": [
    {
     "data": {
      "text/plain": [
       "30"
      ]
     },
     "execution_count": 8,
     "metadata": {},
     "output_type": "execute_result"
    }
   ],
   "source": [
    "n=len(X)\n",
    "n"
   ]
  },
  {
   "cell_type": "markdown",
   "id": "e5038d2e",
   "metadata": {},
   "source": [
    "# Finding m"
   ]
  },
  {
   "cell_type": "markdown",
   "id": "3c490e6a",
   "metadata": {},
   "source": [
    "m=sum((x-x_mean)(y-y_mean))/sum((x-x_mean)**2)"
   ]
  },
  {
   "cell_type": "code",
   "execution_count": 9,
   "id": "fb4be28f",
   "metadata": {},
   "outputs": [],
   "source": [
    "num=0\n",
    "dem=0\n",
    "for i in range(n):\n",
    "    num=num+((X[i]-X_mean)*(y[i]-Y_mean))\n",
    "    dem=dem+((X[i]-X_mean)**2)"
   ]
  },
  {
   "cell_type": "code",
   "execution_count": 10,
   "id": "29b6e594",
   "metadata": {},
   "outputs": [],
   "source": [
    "m=num/dem"
   ]
  },
  {
   "cell_type": "code",
   "execution_count": 11,
   "id": "40855ff7",
   "metadata": {},
   "outputs": [
    {
     "data": {
      "text/plain": [
       "6265.1705213028745"
      ]
     },
     "execution_count": 11,
     "metadata": {},
     "output_type": "execute_result"
    }
   ],
   "source": [
    "m"
   ]
  },
  {
   "cell_type": "markdown",
   "id": "be5ea9f2",
   "metadata": {},
   "source": [
    "# Finding c"
   ]
  },
  {
   "cell_type": "markdown",
   "id": "5e20fd21",
   "metadata": {},
   "source": [
    "c=y_mean-(m*x_mean)"
   ]
  },
  {
   "cell_type": "code",
   "execution_count": 12,
   "id": "2dff387b",
   "metadata": {},
   "outputs": [],
   "source": [
    "c=Y_mean-(m*X_mean)"
   ]
  },
  {
   "cell_type": "code",
   "execution_count": 13,
   "id": "5ee582b3",
   "metadata": {},
   "outputs": [
    {
     "data": {
      "text/plain": [
       "-120600.72100981484"
      ]
     },
     "execution_count": 13,
     "metadata": {},
     "output_type": "execute_result"
    }
   ],
   "source": [
    "c"
   ]
  },
  {
   "cell_type": "markdown",
   "id": "9e8e7d5c",
   "metadata": {},
   "source": [
    "# Finding y predicted"
   ]
  },
  {
   "cell_type": "markdown",
   "id": "2698401e",
   "metadata": {},
   "source": [
    "yp=mx+c"
   ]
  },
  {
   "cell_type": "code",
   "execution_count": 14,
   "id": "954532b6",
   "metadata": {},
   "outputs": [],
   "source": [
    "yp=[]\n",
    "for i in range(n):\n",
    "    yp.append(m*X[i]+c)"
   ]
  },
  {
   "cell_type": "code",
   "execution_count": 15,
   "id": "4341f0d8",
   "metadata": {},
   "outputs": [
    {
     "data": {
      "text/plain": [
       "[4702.6894162426615,\n",
       " 10967.859937545538,\n",
       " 17233.030458848414,\n",
       " 67354.3946292714,\n",
       " 54824.05358666564,\n",
       " 23498.20098015129,\n",
       " 29763.371501454138,\n",
       " 67354.3946292714,\n",
       " 18486.064563108972,\n",
       " 17233.030458848414,\n",
       " 86149.90619318002,\n",
       " 92415.0767144829,\n",
       " 104945.41775708865,\n",
       " 111210.58827839153,\n",
       " 117475.7587996944,\n",
       " 17233.030458848414,\n",
       " 29763.371501454138,\n",
       " 10967.859937545538,\n",
       " 4702.6894162426615,\n",
       " 79884.73567187715,\n",
       " 17233.030458848414,\n",
       " 10967.859937545538,\n",
       " 17233.030458848414,\n",
       " 10967.859937545538,\n",
       " 17233.030458848414,\n",
       " 17233.030458848414,\n",
       " 17233.030458848414,\n",
       " 23498.20098015129,\n",
       " 23498.20098015129,\n",
       " 23498.20098015129]"
      ]
     },
     "execution_count": 15,
     "metadata": {},
     "output_type": "execute_result"
    }
   ],
   "source": [
    "yp"
   ]
  },
  {
   "cell_type": "markdown",
   "id": "0d85f041",
   "metadata": {},
   "source": [
    "# Finding R square value"
   ]
  },
  {
   "cell_type": "markdown",
   "id": "916ee652",
   "metadata": {},
   "source": [
    "R^2=sum((y_pred-y_mean)^2)/sum((y-y_mean)^2)"
   ]
  },
  {
   "cell_type": "code",
   "execution_count": 16,
   "id": "fddf0479",
   "metadata": {},
   "outputs": [],
   "source": [
    "num1=0\n",
    "dem1=0\n",
    "for i in range(n):\n",
    "    num1=num1+((yp[i]-Y_mean)**2)\n",
    "    dem1=dem1+((y[i]-Y_mean)**2)"
   ]
  },
  {
   "cell_type": "code",
   "execution_count": 17,
   "id": "b6f9702f",
   "metadata": {},
   "outputs": [],
   "source": [
    "R_Square=num1/dem1"
   ]
  },
  {
   "cell_type": "code",
   "execution_count": 18,
   "id": "8b4794e2",
   "metadata": {},
   "outputs": [
    {
     "data": {
      "text/plain": [
       "0.9266272535469061"
      ]
     },
     "execution_count": 18,
     "metadata": {},
     "output_type": "execute_result"
    }
   ],
   "source": [
    "R_Square"
   ]
  },
  {
   "cell_type": "markdown",
   "id": "4fa1cd4a",
   "metadata": {},
   "source": [
    "# Finding error rate"
   ]
  },
  {
   "cell_type": "markdown",
   "id": "d1e8f7c9",
   "metadata": {},
   "source": [
    "error_rate=1-R^2"
   ]
  },
  {
   "cell_type": "code",
   "execution_count": 19,
   "id": "88993df9",
   "metadata": {},
   "outputs": [],
   "source": [
    "error_rate=1-R_Square"
   ]
  },
  {
   "cell_type": "code",
   "execution_count": 20,
   "id": "2f13e7f8",
   "metadata": {},
   "outputs": [
    {
     "data": {
      "text/plain": [
       "0.07337274645309388"
      ]
     },
     "execution_count": 20,
     "metadata": {},
     "output_type": "execute_result"
    }
   ],
   "source": [
    "error_rate"
   ]
  }
 ],
 "metadata": {
  "kernelspec": {
   "display_name": "Python 3",
   "language": "python",
   "name": "python3"
  },
  "language_info": {
   "codemirror_mode": {
    "name": "ipython",
    "version": 3
   },
   "file_extension": ".py",
   "mimetype": "text/x-python",
   "name": "python",
   "nbconvert_exporter": "python",
   "pygments_lexer": "ipython3",
   "version": "3.8.8"
  }
 },
 "nbformat": 4,
 "nbformat_minor": 5
}
